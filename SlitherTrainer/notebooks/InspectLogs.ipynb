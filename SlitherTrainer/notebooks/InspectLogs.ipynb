{
 "metadata": {
  "language_info": {
   "codemirror_mode": {
    "name": "ipython",
    "version": 3
   },
   "file_extension": ".py",
   "mimetype": "text/x-python",
   "name": "python",
   "nbconvert_exporter": "python",
   "pygments_lexer": "ipython3",
   "version": "3.7.7-final"
  },
  "orig_nbformat": 2,
  "kernelspec": {
   "name": "eos",
   "display_name": "eos"
  }
 },
 "nbformat": 4,
 "nbformat_minor": 2,
 "cells": [
  {
   "cell_type": "code",
   "execution_count": 11,
   "metadata": {},
   "outputs": [],
   "source": [
    "import pickle\n",
    "import h5py\n",
    "import numpy as np\n",
    "import os\n",
    "import json\n",
    "import pandas as pd\n",
    "DATA_DIR = \"../../data/logs\""
   ]
  },
  {
   "cell_type": "code",
   "execution_count": 3,
   "metadata": {},
   "outputs": [
    {
     "output_type": "stream",
     "name": "stdout",
     "text": [
      "No file found, creating initial h5\n"
     ]
    }
   ],
   "source": [
    "def to_h5(fname='preprocessed.h5'):\n",
    "    data = []\n",
    "    with open(DATA_DIR + \"/data.p\", \"rb\") as f:\n",
    "        while True:      \n",
    "            try:  \n",
    "                data += [pickle.load(f)]\n",
    "            except EOFError:\n",
    "                break\n",
    "\n",
    "    # stack like types together\n",
    "    nextImages = []\n",
    "    currentImages = []\n",
    "    metadata = []\n",
    "    ids = []\n",
    "\n",
    "    for record in data:\n",
    "        nextImages.append(record['nextImage'])\n",
    "        currentImages.append(record['currentImage'])\n",
    "        metadata.append([\n",
    "            record['action'], record['reward'], int(record['died']), record[\"didBoost\"]\n",
    "        ])\n",
    "        ids.append(record.get('id', b\"00000000-0000-0000-0000-000000000000\"))\n",
    "\n",
    "    nextImages = np.array(nextImages)\n",
    "    currentImages = np.array(currentImages)\n",
    "    metadata = np.array(metadata)\n",
    "    ids = np.array(ids)\n",
    "\n",
    "    assert nextImages.shape == currentImages.shape\n",
    "    assert metadata.shape[0] == nextImages.shape[0]\n",
    "\n",
    "    try:\n",
    "        # read in existing and append\n",
    "        with h5py.File(DATA_DIR + '/' + fname,'r') as hf:\n",
    "            nextImages = np.vstack((hf['nextImage'][...], nextImages))\n",
    "            currentImages = np.vstack((hf['currentImage'][...], currentImages))\n",
    "            metadata = np.vstack((hf['metadata'][...], metadata))\n",
    "            ids = np.hstack((hf['ids'][...], ids))\n",
    "    except (FileNotFoundError, OSError):\n",
    "        print(\"No file found, creating initial h5\")\n",
    "        pass\n",
    "\n",
    "    # write new\n",
    "    with h5py.File(DATA_DIR + '/' + fname,'w') as hf:\n",
    "        hf.create_dataset('currentImage', data=currentImages)\n",
    "        hf.create_dataset('nextImage', data=nextImages)\n",
    "        hf.create_dataset('metadata', data=metadata)\n",
    "        hf.create_dataset(\"ids\", data=ids)\n",
    "\n",
    "    \n",
    "to_h5('preprocessed_try2.h5')"
   ]
  },
  {
   "cell_type": "code",
   "execution_count": 17,
   "metadata": {},
   "outputs": [],
   "source": [
    "playerlog = os.path.abspath(os.path.join(DATA_DIR, \"Player.log\"))\n",
    "\n",
    "with open(playerlog,\"r\") as f:\n",
    "    records = [json.loads(x).get('message') for x in f.readlines()]\n",
    "records = [x for x in records if isinstance(x, dict)]\n",
    "# records"
   ]
  },
  {
   "cell_type": "code",
   "execution_count": 18,
   "metadata": {},
   "outputs": [],
   "source": [
    "df = pd.DataFrame(records)"
   ]
  },
  {
   "cell_type": "code",
   "execution_count": 19,
   "metadata": {},
   "outputs": [
    {
     "output_type": "execute_result",
     "data": {
      "text/plain": [
       "         Timestep  Length   Dead                                    Id\n",
       "0      1605664150      10  False  cd346ac4-db15-4878-8db1-09f4e29d2e55\n",
       "1      1605664151      14  False  eb69ed7d-7538-41bf-88c9-8226abc21ad3\n",
       "2      1605664151      14  False  0b2a884d-0f54-4499-8a60-6ea12418ed50\n",
       "3      1605664152      20  False  6580a874-d224-45fb-b855-77877fa819a2\n",
       "4      1605664153      19  False  0a6cd4a4-81b8-4e38-98c9-e1c1a9b243ce\n",
       "...           ...     ...    ...                                   ...\n",
       "50596  1605704106      76  False  0692472c-27b7-43a8-8fce-ca9a32c17b65\n",
       "50597  1605704107      78  False  3b6339d5-f702-42bb-a9e6-18a6f5ce662d\n",
       "50598  1605704108      74  False  fd39fbd3-1152-446a-9657-24c6fccd8a45\n",
       "50599  1605704109      74  False  dc06e042-5380-42ea-aa64-035c6444d4ee\n",
       "50600  1605704110      74   True  1954610d-fd4a-49ad-9313-3baec256b95e\n",
       "\n",
       "[50601 rows x 4 columns]"
      ],
      "text/html": "<div>\n<style scoped>\n    .dataframe tbody tr th:only-of-type {\n        vertical-align: middle;\n    }\n\n    .dataframe tbody tr th {\n        vertical-align: top;\n    }\n\n    .dataframe thead th {\n        text-align: right;\n    }\n</style>\n<table border=\"1\" class=\"dataframe\">\n  <thead>\n    <tr style=\"text-align: right;\">\n      <th></th>\n      <th>Timestep</th>\n      <th>Length</th>\n      <th>Dead</th>\n      <th>Id</th>\n    </tr>\n  </thead>\n  <tbody>\n    <tr>\n      <th>0</th>\n      <td>1605664150</td>\n      <td>10</td>\n      <td>False</td>\n      <td>cd346ac4-db15-4878-8db1-09f4e29d2e55</td>\n    </tr>\n    <tr>\n      <th>1</th>\n      <td>1605664151</td>\n      <td>14</td>\n      <td>False</td>\n      <td>eb69ed7d-7538-41bf-88c9-8226abc21ad3</td>\n    </tr>\n    <tr>\n      <th>2</th>\n      <td>1605664151</td>\n      <td>14</td>\n      <td>False</td>\n      <td>0b2a884d-0f54-4499-8a60-6ea12418ed50</td>\n    </tr>\n    <tr>\n      <th>3</th>\n      <td>1605664152</td>\n      <td>20</td>\n      <td>False</td>\n      <td>6580a874-d224-45fb-b855-77877fa819a2</td>\n    </tr>\n    <tr>\n      <th>4</th>\n      <td>1605664153</td>\n      <td>19</td>\n      <td>False</td>\n      <td>0a6cd4a4-81b8-4e38-98c9-e1c1a9b243ce</td>\n    </tr>\n    <tr>\n      <th>...</th>\n      <td>...</td>\n      <td>...</td>\n      <td>...</td>\n      <td>...</td>\n    </tr>\n    <tr>\n      <th>50596</th>\n      <td>1605704106</td>\n      <td>76</td>\n      <td>False</td>\n      <td>0692472c-27b7-43a8-8fce-ca9a32c17b65</td>\n    </tr>\n    <tr>\n      <th>50597</th>\n      <td>1605704107</td>\n      <td>78</td>\n      <td>False</td>\n      <td>3b6339d5-f702-42bb-a9e6-18a6f5ce662d</td>\n    </tr>\n    <tr>\n      <th>50598</th>\n      <td>1605704108</td>\n      <td>74</td>\n      <td>False</td>\n      <td>fd39fbd3-1152-446a-9657-24c6fccd8a45</td>\n    </tr>\n    <tr>\n      <th>50599</th>\n      <td>1605704109</td>\n      <td>74</td>\n      <td>False</td>\n      <td>dc06e042-5380-42ea-aa64-035c6444d4ee</td>\n    </tr>\n    <tr>\n      <th>50600</th>\n      <td>1605704110</td>\n      <td>74</td>\n      <td>True</td>\n      <td>1954610d-fd4a-49ad-9313-3baec256b95e</td>\n    </tr>\n  </tbody>\n</table>\n<p>50601 rows × 4 columns</p>\n</div>"
     },
     "metadata": {},
     "execution_count": 19
    }
   ],
   "source": [
    "df"
   ]
  },
  {
   "cell_type": "code",
   "execution_count": null,
   "metadata": {},
   "outputs": [],
   "source": []
  }
 ]
}