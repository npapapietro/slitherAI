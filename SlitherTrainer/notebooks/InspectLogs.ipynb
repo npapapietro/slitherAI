{
 "metadata": {
  "language_info": {
   "codemirror_mode": {
    "name": "ipython",
    "version": 3
   },
   "file_extension": ".py",
   "mimetype": "text/x-python",
   "name": "python",
   "nbconvert_exporter": "python",
   "pygments_lexer": "ipython3",
   "version": "3.7.7-final"
  },
  "orig_nbformat": 2,
  "kernelspec": {
   "name": "eos",
   "display_name": "eos"
  }
 },
 "nbformat": 4,
 "nbformat_minor": 2,
 "cells": [
  {
   "cell_type": "code",
   "execution_count": 1,
   "metadata": {},
   "outputs": [],
   "source": [
    "import os\n",
    "\n",
    "os.chdir(\"..\")"
   ]
  },
  {
   "cell_type": "code",
   "execution_count": 14,
   "metadata": {},
   "outputs": [],
   "source": [
    "import pickle\n",
    "import h5py\n",
    "import numpy as np"
   ]
  },
  {
   "cell_type": "code",
   "execution_count": 15,
   "metadata": {},
   "outputs": [],
   "source": [
    "data = []\n",
    "with open(\"src/logs/data.p\", \"rb\") as f:\n",
    "    while True:      \n",
    "        try:  \n",
    "            data += [pickle.load(f)]\n",
    "        except EOFError:\n",
    "            break"
   ]
  },
  {
   "cell_type": "code",
   "execution_count": 20,
   "metadata": {},
   "outputs": [],
   "source": [
    "nextImages = []\n",
    "currentImages = []\n",
    "metadata = []\n",
    "\n",
    "for record in data:\n",
    "    nextImages.append(record['nextImage'])\n",
    "    currentImages.append(record['currentImage'])\n",
    "    metadata.append([\n",
    "        record['action'], record['reward'], int(record['died'])\n",
    "    ])\n",
    "\n",
    "nextImages = np.array(nextImages)\n",
    "currentImages = np.array(currentImages)\n",
    "metadata = np.array(metadata)\n",
    "\n",
    "assert nextImages.shape == currentImages.shape\n",
    "assert metadata.shape[0] == nextImages.shape[0]"
   ]
  },
  {
   "cell_type": "code",
   "execution_count": 23,
   "metadata": {},
   "outputs": [],
   "source": [
    "with h5py.File('src/logs/preprocessed.h5','a') as hf:\n",
    "    hf.create_dataset('currentImage', data=currentImages)\n",
    "    hf.create_dataset('nextImage', data=nextImages)\n",
    "    hf.create_dataset('metadata', data=metadata)"
   ]
  },
  {
   "cell_type": "code",
   "execution_count": 29,
   "metadata": {},
   "outputs": [
    {
     "output_type": "stream",
     "name": "stdout",
     "text": [
      "<HDF5 dataset \"currentImage\": shape (2505, 2048), type \"<f8\">\n"
     ]
    }
   ],
   "source": [
    "with h5py.File('src/logs/preprocessed.h5','r') as hf:\n",
    "    print(hf['currentImage'])"
   ]
  },
  {
   "cell_type": "code",
   "execution_count": null,
   "metadata": {},
   "outputs": [],
   "source": []
  }
 ]
}