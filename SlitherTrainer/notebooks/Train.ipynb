{
 "metadata": {
  "language_info": {
   "codemirror_mode": {
    "name": "ipython",
    "version": 3
   },
   "file_extension": ".py",
   "mimetype": "text/x-python",
   "name": "python",
   "nbconvert_exporter": "python",
   "pygments_lexer": "ipython3",
   "version": "3.8.3-final"
  },
  "orig_nbformat": 2,
  "kernelspec": {
   "name": "Python 3.8.3 64-bit ('voltron': conda)",
   "display_name": "Python 3.8.3 64-bit ('voltron': conda)",
   "metadata": {
    "interpreter": {
     "hash": "c308c35b49922ea7c18f2a71d770cb9e03ee1c408753e64b0a8755cec8d2445a"
    }
   }
  }
 },
 "nbformat": 4,
 "nbformat_minor": 2,
 "cells": [
  {
   "cell_type": "code",
   "execution_count": 1,
   "metadata": {},
   "outputs": [],
   "source": [
    "import h5py\n",
    "import pandas as pd\n",
    "import numpy as np\n",
    "\n",
    "DATA_DIR = \"../../data/logs\""
   ]
  },
  {
   "cell_type": "code",
   "execution_count": 2,
   "metadata": {},
   "outputs": [],
   "source": [
    "with h5py.File(DATA_DIR + '/preprocessed_sm.h5','r') as hf:\n",
    "    nextImages = hf['nextImage'][...]\n",
    "    currentImages = hf['currentImage'][...]\n",
    "    metadata = hf['metadata'][...]\n",
    "    ids = hf['ids'][...]"
   ]
  },
  {
   "cell_type": "code",
   "execution_count": 3,
   "metadata": {},
   "outputs": [],
   "source": [
    "df = pd.DataFrame([{ \n",
    "    \"currentImage\": ci,\n",
    "    \"nextImage\": ni,\n",
    "    \"action\": int(md[0]),\n",
    "    \"reward\": md[1],\n",
    "    \"died\": int(md[2]),\n",
    "    \"didBoost\": int(md[3]),\n",
    "    \"id\": i.decode()} for ni, ci, md, i in zip(nextImages, currentImages, metadata, ids)])"
   ]
  },
  {
   "cell_type": "code",
   "execution_count": 4,
   "metadata": {},
   "outputs": [],
   "source": [
    "df = df.loc[(df['id'] != \"00000000-0000-0000-0000-000000000000\")]"
   ]
  },
  {
   "cell_type": "code",
   "execution_count": 5,
   "metadata": {},
   "outputs": [],
   "source": [
    "import os\n",
    "os.chdir('..')"
   ]
  },
  {
   "cell_type": "code",
   "execution_count": 6,
   "metadata": {},
   "outputs": [],
   "source": [
    "from src.game import Trainer"
   ]
  },
  {
   "cell_type": "code",
   "execution_count": 7,
   "metadata": {},
   "outputs": [
    {
     "output_type": "stream",
     "name": "stderr",
     "text": [
      "100%|██████████| 2048/2048 [02:15<00:00, 15.11it/s]\n",
      "1/1 [==============================] - 1s 519ms/step - loss: 1643185.8750 - move_loss: 9570.5332 - boost_loss: 1633615.3750 - move_accuracy: 0.6606 - boost_accuracy: 0.6157\n"
     ]
    }
   ],
   "source": [
    "mdl = Trainer.train_override(df.to_dict(\"records\"),verbose=1)"
   ]
  },
  {
   "cell_type": "code",
   "execution_count": 8,
   "metadata": {},
   "outputs": [
    {
     "output_type": "stream",
     "name": "stdout",
     "text": [
      "[1643185.875] [0.66064453125] [0.61572265625]\n"
     ]
    }
   ],
   "source": [
    "import matplotlib.pyplot as plt\n",
    "\n",
    "loss = mdl.history[\"loss\"]\n",
    "macc = mdl.history[\"move_accuracy\"]\n",
    "bacc = mdl.history[\"boost_accuracy\"]\n",
    "print(loss,macc,bacc)"
   ]
  }
 ]
}