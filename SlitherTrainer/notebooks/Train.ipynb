{
 "metadata": {
  "language_info": {
   "codemirror_mode": {
    "name": "ipython",
    "version": 3
   },
   "file_extension": ".py",
   "mimetype": "text/x-python",
   "name": "python",
   "nbconvert_exporter": "python",
   "pygments_lexer": "ipython3",
   "version": "3.7.7-final"
  },
  "orig_nbformat": 2,
  "kernelspec": {
   "name": "eos",
   "display_name": "eos"
  }
 },
 "nbformat": 4,
 "nbformat_minor": 2,
 "cells": [
  {
   "cell_type": "code",
   "execution_count": 2,
   "metadata": {},
   "outputs": [],
   "source": [
    "import h5py\n",
    "import pandas as pd\n",
    "import numpy as np\n",
    "\n",
    "DATA_DIR = \"../../data/logs\""
   ]
  },
  {
   "cell_type": "code",
   "execution_count": 3,
   "metadata": {},
   "outputs": [],
   "source": [
    "with h5py.File(DATA_DIR + '/preprocessed.h5','r') as hf:\n",
    "    nextImages = hf['nextImage'][...]\n",
    "    currentImages = hf['currentImage'][...]\n",
    "    metadata = hf['metadata'][...]\n",
    "    ids = hf['ids'][...]"
   ]
  },
  {
   "cell_type": "code",
   "execution_count": 8,
   "metadata": {},
   "outputs": [],
   "source": [
    "df = pd.DataFrame([{ \n",
    "    \"currentImage\": ci,\n",
    "    \"nextImage\": ni,\n",
    "    \"action\": int(md[0]),\n",
    "    \"reward\": md[1],\n",
    "    \"died\": int(md[2]),\n",
    "    \"didBoost\": int(md[3]),\n",
    "    \"id\": i.decode()} for ni, ci, md, i in zip(nextImages, currentImages, metadata, ids)])"
   ]
  },
  {
   "cell_type": "code",
   "execution_count": 11,
   "metadata": {},
   "outputs": [],
   "source": [
    "df = df.loc[df['id'] != \"00000000-0000-0000-0000-000000000000\"]"
   ]
  },
  {
   "cell_type": "code",
   "execution_count": 13,
   "metadata": {},
   "outputs": [
    {
     "output_type": "execute_result",
     "data": {
      "text/plain": [
       "5238     100.0\n",
       "5239     100.0\n",
       "5240       1.0\n",
       "5241       1.0\n",
       "5242       1.0\n",
       "         ...  \n",
       "94189      2.0\n",
       "94190      0.0\n",
       "94191      0.0\n",
       "94192      0.0\n",
       "94193     -1.0\n",
       "Name: reward, Length: 83718, dtype: float64"
      ]
     },
     "metadata": {},
     "execution_count": 13
    }
   ],
   "source": [
    "def min_max(x):\n",
    "    _min = np.min(x)\n",
    "    _max = np.max(x)\n",
    "\n",
    "    return (x - _min) / (_max - _min) * 2.0 - 1.0"
   ]
  },
  {
   "cell_type": "code",
   "execution_count": null,
   "metadata": {},
   "outputs": [],
   "source": []
  }
 ]
}