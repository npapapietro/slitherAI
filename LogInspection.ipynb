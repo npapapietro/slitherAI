{
 "metadata": {
  "language_info": {
   "codemirror_mode": {
    "name": "ipython",
    "version": 3
   },
   "file_extension": ".py",
   "mimetype": "text/x-python",
   "name": "python",
   "nbconvert_exporter": "python",
   "pygments_lexer": "ipython3",
   "version": "3.7.5-final"
  },
  "orig_nbformat": 2,
  "kernelspec": {
   "name": "Python 3.7.5 64-bit",
   "display_name": "Python 3.7.5 64-bit",
   "metadata": {
    "interpreter": {
     "hash": "83fe8e3c7acc0454046e39d8dcb3315537b0971b27b2870887e097aef75e4698"
    }
   }
  }
 },
 "nbformat": 4,
 "nbformat_minor": 2,
 "cells": [
  {
   "cell_type": "code",
   "execution_count": 2,
   "metadata": {},
   "outputs": [],
   "source": [
    "import pandas as pd\n",
    "\n",
    "df = pd.read_csv(\"SlitherAILogs.csv\")"
   ]
  },
  {
   "cell_type": "code",
   "execution_count": 3,
   "metadata": {},
   "outputs": [
    {
     "output_type": "execute_result",
     "data": {
      "text/plain": "         Action AtMenu InGame   Died FromStart            TimeStamp   Wait  \\\n0          Wait  False   True  False     False  09/29/2020 00:30:53    NaN   \n1          Wait   True  False   True     False  09/29/2020 00:30:54    NaN   \n2          Wait   True  False  False      True  09/29/2020 00:30:54    NaN   \n3          Wait  False   True  False     False  09/29/2020 00:30:54    NaN   \n4    BoostRight  False   True  False     False  09/29/2020 00:30:54    NaN   \n..          ...    ...    ...    ...       ...                  ...    ...   \n359        Left  False   True  False     False  09/29/2020 00:51:23  False   \n360        Left  False   True  False     False  09/29/2020 00:51:23  False   \n361   BoostLeft  False   True  False     False  09/29/2020 00:51:23  False   \n362       Right  False   True  False     False  09/29/2020 00:51:23  False   \n363        Wait  False  False  False     False  09/29/2020 00:51:35   True   \n\n                                                  True  False  False.1  \\\n0                                                  NaN    NaN      NaN   \n1                                                  NaN    NaN      NaN   \n2                                                  NaN    NaN      NaN   \n3                                                  NaN    NaN      NaN   \n4                                                  NaN    NaN      NaN   \n..                                                 ...    ...      ...   \n359                                                NaN    NaN      NaN   \n360                                                NaN    NaN      NaN   \n361                                                NaN    NaN      NaN   \n362                                                NaN    NaN      NaN   \n363  Error: WebDriverException :: chrome not reacha...    NaN      NaN   \n\n     True.1  09/29/2020 00:30:53  \n0       NaN                  NaN  \n1       NaN                  NaN  \n2       NaN                  NaN  \n3       NaN                  NaN  \n4       NaN                  NaN  \n..      ...                  ...  \n359     NaN                  NaN  \n360     NaN                  NaN  \n361     NaN                  NaN  \n362     NaN                  NaN  \n363     NaN                  NaN  \n\n[364 rows x 12 columns]",
      "text/html": "<div>\n<style scoped>\n    .dataframe tbody tr th:only-of-type {\n        vertical-align: middle;\n    }\n\n    .dataframe tbody tr th {\n        vertical-align: top;\n    }\n\n    .dataframe thead th {\n        text-align: right;\n    }\n</style>\n<table border=\"1\" class=\"dataframe\">\n  <thead>\n    <tr style=\"text-align: right;\">\n      <th></th>\n      <th>Action</th>\n      <th>AtMenu</th>\n      <th>InGame</th>\n      <th>Died</th>\n      <th>FromStart</th>\n      <th>TimeStamp</th>\n      <th>Wait</th>\n      <th>True</th>\n      <th>False</th>\n      <th>False.1</th>\n      <th>True.1</th>\n      <th>09/29/2020 00:30:53</th>\n    </tr>\n  </thead>\n  <tbody>\n    <tr>\n      <th>0</th>\n      <td>Wait</td>\n      <td>False</td>\n      <td>True</td>\n      <td>False</td>\n      <td>False</td>\n      <td>09/29/2020 00:30:53</td>\n      <td>NaN</td>\n      <td>NaN</td>\n      <td>NaN</td>\n      <td>NaN</td>\n      <td>NaN</td>\n      <td>NaN</td>\n    </tr>\n    <tr>\n      <th>1</th>\n      <td>Wait</td>\n      <td>True</td>\n      <td>False</td>\n      <td>True</td>\n      <td>False</td>\n      <td>09/29/2020 00:30:54</td>\n      <td>NaN</td>\n      <td>NaN</td>\n      <td>NaN</td>\n      <td>NaN</td>\n      <td>NaN</td>\n      <td>NaN</td>\n    </tr>\n    <tr>\n      <th>2</th>\n      <td>Wait</td>\n      <td>True</td>\n      <td>False</td>\n      <td>False</td>\n      <td>True</td>\n      <td>09/29/2020 00:30:54</td>\n      <td>NaN</td>\n      <td>NaN</td>\n      <td>NaN</td>\n      <td>NaN</td>\n      <td>NaN</td>\n      <td>NaN</td>\n    </tr>\n    <tr>\n      <th>3</th>\n      <td>Wait</td>\n      <td>False</td>\n      <td>True</td>\n      <td>False</td>\n      <td>False</td>\n      <td>09/29/2020 00:30:54</td>\n      <td>NaN</td>\n      <td>NaN</td>\n      <td>NaN</td>\n      <td>NaN</td>\n      <td>NaN</td>\n      <td>NaN</td>\n    </tr>\n    <tr>\n      <th>4</th>\n      <td>BoostRight</td>\n      <td>False</td>\n      <td>True</td>\n      <td>False</td>\n      <td>False</td>\n      <td>09/29/2020 00:30:54</td>\n      <td>NaN</td>\n      <td>NaN</td>\n      <td>NaN</td>\n      <td>NaN</td>\n      <td>NaN</td>\n      <td>NaN</td>\n    </tr>\n    <tr>\n      <th>...</th>\n      <td>...</td>\n      <td>...</td>\n      <td>...</td>\n      <td>...</td>\n      <td>...</td>\n      <td>...</td>\n      <td>...</td>\n      <td>...</td>\n      <td>...</td>\n      <td>...</td>\n      <td>...</td>\n      <td>...</td>\n    </tr>\n    <tr>\n      <th>359</th>\n      <td>Left</td>\n      <td>False</td>\n      <td>True</td>\n      <td>False</td>\n      <td>False</td>\n      <td>09/29/2020 00:51:23</td>\n      <td>False</td>\n      <td>NaN</td>\n      <td>NaN</td>\n      <td>NaN</td>\n      <td>NaN</td>\n      <td>NaN</td>\n    </tr>\n    <tr>\n      <th>360</th>\n      <td>Left</td>\n      <td>False</td>\n      <td>True</td>\n      <td>False</td>\n      <td>False</td>\n      <td>09/29/2020 00:51:23</td>\n      <td>False</td>\n      <td>NaN</td>\n      <td>NaN</td>\n      <td>NaN</td>\n      <td>NaN</td>\n      <td>NaN</td>\n    </tr>\n    <tr>\n      <th>361</th>\n      <td>BoostLeft</td>\n      <td>False</td>\n      <td>True</td>\n      <td>False</td>\n      <td>False</td>\n      <td>09/29/2020 00:51:23</td>\n      <td>False</td>\n      <td>NaN</td>\n      <td>NaN</td>\n      <td>NaN</td>\n      <td>NaN</td>\n      <td>NaN</td>\n    </tr>\n    <tr>\n      <th>362</th>\n      <td>Right</td>\n      <td>False</td>\n      <td>True</td>\n      <td>False</td>\n      <td>False</td>\n      <td>09/29/2020 00:51:23</td>\n      <td>False</td>\n      <td>NaN</td>\n      <td>NaN</td>\n      <td>NaN</td>\n      <td>NaN</td>\n      <td>NaN</td>\n    </tr>\n    <tr>\n      <th>363</th>\n      <td>Wait</td>\n      <td>False</td>\n      <td>False</td>\n      <td>False</td>\n      <td>False</td>\n      <td>09/29/2020 00:51:35</td>\n      <td>True</td>\n      <td>Error: WebDriverException :: chrome not reacha...</td>\n      <td>NaN</td>\n      <td>NaN</td>\n      <td>NaN</td>\n      <td>NaN</td>\n    </tr>\n  </tbody>\n</table>\n<p>364 rows × 12 columns</p>\n</div>"
     },
     "metadata": {},
     "execution_count": 3
    }
   ],
   "source": [
    "df"
   ]
  },
  {
   "cell_type": "code",
   "execution_count": null,
   "metadata": {},
   "outputs": [],
   "source": [
    "0"
   ]
  }
 ]
}